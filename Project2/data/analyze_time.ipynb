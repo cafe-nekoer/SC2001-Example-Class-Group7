{
 "cells": [
  {
   "cell_type": "code",
   "execution_count": 20,
   "metadata": {},
   "outputs": [],
   "source": [
    "import pandas as pd\n",
    "import seaborn as sns"
   ]
  },
  {
   "cell_type": "code",
   "execution_count": 21,
   "metadata": {},
   "outputs": [],
   "source": [
    "def convert_data_frame(data):\n",
    "    data_dict = {}\n",
    "    for index, row in data.iterrows():\n",
    "        now_index = row[\"num_vertices\"], row[\"num_edges\"]\n",
    "        if now_index not in data_dict:\n",
    "            data_dict[now_index] = []\n",
    "        data_dict[now_index].append(row[\"time\"])\n",
    "    average_list = []\n",
    "    for key, value in data_dict.items():\n",
    "        average_list.append(\n",
    "            {\n",
    "                \"num_vertices\": key[0],\n",
    "                \"num_edges\": key[1],\n",
    "                \"rate\": key[1] / (key[0] * key[0]),\n",
    "                \"average\": sum(value) / len(value),\n",
    "            }\n",
    "        )\n",
    "    average_data = pd.DataFrame.from_dict(average_list, orient=\"columns\")\n",
    "    return average_data"
   ]
  },
  {
   "cell_type": "code",
   "execution_count": 22,
   "metadata": {},
   "outputs": [
    {
     "data": {
      "text/html": [
       "<div>\n",
       "<style scoped>\n",
       "    .dataframe tbody tr th:only-of-type {\n",
       "        vertical-align: middle;\n",
       "    }\n",
       "\n",
       "    .dataframe tbody tr th {\n",
       "        vertical-align: top;\n",
       "    }\n",
       "\n",
       "    .dataframe thead th {\n",
       "        text-align: right;\n",
       "    }\n",
       "</style>\n",
       "<table border=\"1\" class=\"dataframe\">\n",
       "  <thead>\n",
       "    <tr style=\"text-align: right;\">\n",
       "      <th></th>\n",
       "      <th>num_vertices</th>\n",
       "      <th>num_edges</th>\n",
       "      <th>rate</th>\n",
       "      <th>average</th>\n",
       "    </tr>\n",
       "  </thead>\n",
       "  <tbody>\n",
       "    <tr>\n",
       "      <th>0</th>\n",
       "      <td>1000</td>\n",
       "      <td>10000</td>\n",
       "      <td>0.01</td>\n",
       "      <td>9.828466e+06</td>\n",
       "    </tr>\n",
       "    <tr>\n",
       "      <th>1</th>\n",
       "      <td>1000</td>\n",
       "      <td>20000</td>\n",
       "      <td>0.02</td>\n",
       "      <td>1.047933e+07</td>\n",
       "    </tr>\n",
       "    <tr>\n",
       "      <th>2</th>\n",
       "      <td>1000</td>\n",
       "      <td>30000</td>\n",
       "      <td>0.03</td>\n",
       "      <td>1.048963e+07</td>\n",
       "    </tr>\n",
       "    <tr>\n",
       "      <th>3</th>\n",
       "      <td>1000</td>\n",
       "      <td>40000</td>\n",
       "      <td>0.04</td>\n",
       "      <td>1.117957e+07</td>\n",
       "    </tr>\n",
       "    <tr>\n",
       "      <th>4</th>\n",
       "      <td>1000</td>\n",
       "      <td>50000</td>\n",
       "      <td>0.05</td>\n",
       "      <td>1.110726e+07</td>\n",
       "    </tr>\n",
       "  </tbody>\n",
       "</table>\n",
       "</div>"
      ],
      "text/plain": [
       "   num_vertices  num_edges  rate       average\n",
       "0          1000      10000  0.01  9.828466e+06\n",
       "1          1000      20000  0.02  1.047933e+07\n",
       "2          1000      30000  0.03  1.048963e+07\n",
       "3          1000      40000  0.04  1.117957e+07\n",
       "4          1000      50000  0.05  1.110726e+07"
      ]
     },
     "execution_count": 22,
     "metadata": {},
     "output_type": "execute_result"
    }
   ],
   "source": [
    "matrix_data = pd.read_csv(\"./time_diff_edge_matrix.csv\")\n",
    "matrix_data = convert_data_frame(matrix_data)\n",
    "matrix_data.head()"
   ]
  },
  {
   "cell_type": "code",
   "execution_count": 23,
   "metadata": {},
   "outputs": [
    {
     "data": {
      "text/html": [
       "<div>\n",
       "<style scoped>\n",
       "    .dataframe tbody tr th:only-of-type {\n",
       "        vertical-align: middle;\n",
       "    }\n",
       "\n",
       "    .dataframe tbody tr th {\n",
       "        vertical-align: top;\n",
       "    }\n",
       "\n",
       "    .dataframe thead th {\n",
       "        text-align: right;\n",
       "    }\n",
       "</style>\n",
       "<table border=\"1\" class=\"dataframe\">\n",
       "  <thead>\n",
       "    <tr style=\"text-align: right;\">\n",
       "      <th></th>\n",
       "      <th>num_vertices</th>\n",
       "      <th>num_edges</th>\n",
       "      <th>rate</th>\n",
       "      <th>average</th>\n",
       "    </tr>\n",
       "  </thead>\n",
       "  <tbody>\n",
       "    <tr>\n",
       "      <th>0</th>\n",
       "      <td>1000</td>\n",
       "      <td>10000</td>\n",
       "      <td>0.01</td>\n",
       "      <td>948971.0</td>\n",
       "    </tr>\n",
       "    <tr>\n",
       "      <th>1</th>\n",
       "      <td>1000</td>\n",
       "      <td>20000</td>\n",
       "      <td>0.02</td>\n",
       "      <td>1558224.0</td>\n",
       "    </tr>\n",
       "    <tr>\n",
       "      <th>2</th>\n",
       "      <td>1000</td>\n",
       "      <td>30000</td>\n",
       "      <td>0.03</td>\n",
       "      <td>2675211.0</td>\n",
       "    </tr>\n",
       "    <tr>\n",
       "      <th>3</th>\n",
       "      <td>1000</td>\n",
       "      <td>40000</td>\n",
       "      <td>0.04</td>\n",
       "      <td>3200793.0</td>\n",
       "    </tr>\n",
       "    <tr>\n",
       "      <th>4</th>\n",
       "      <td>1000</td>\n",
       "      <td>50000</td>\n",
       "      <td>0.05</td>\n",
       "      <td>4133203.0</td>\n",
       "    </tr>\n",
       "  </tbody>\n",
       "</table>\n",
       "</div>"
      ],
      "text/plain": [
       "   num_vertices  num_edges  rate    average\n",
       "0          1000      10000  0.01   948971.0\n",
       "1          1000      20000  0.02  1558224.0\n",
       "2          1000      30000  0.03  2675211.0\n",
       "3          1000      40000  0.04  3200793.0\n",
       "4          1000      50000  0.05  4133203.0"
      ]
     },
     "execution_count": 23,
     "metadata": {},
     "output_type": "execute_result"
    }
   ],
   "source": [
    "list_data = pd.read_csv(\"./time_diff_edge_list.csv\")\n",
    "list_data = convert_data_frame(list_data)\n",
    "list_data.head()"
   ]
  },
  {
   "cell_type": "code",
   "execution_count": 24,
   "metadata": {},
   "outputs": [
    {
     "data": {
      "text/plain": [
       "Text(0, 0.5, 'time (μs)')"
      ]
     },
     "execution_count": 24,
     "metadata": {},
     "output_type": "execute_result"
    },
    {
     "data": {
      "image/png": "[encoded data removed]",
      "text/plain": [
       "<Figure size 640x480 with 1 Axes>"
      ]
     },
     "metadata": {},
     "output_type": "display_data"
    }
   ],
   "source": [
    "import matplotlib.pyplot as plt\n",
    "\n",
    "sns.lineplot(x=\"rate\", y=\"average\", data=matrix_data, label=\"matrix\")\n",
    "sns.lineplot(x=\"rate\", y=\"average\", data=list_data, label=\"list\")\n",
    "plt.xlabel(\"|E| / |V|^2\")\n",
    "plt.ylabel(\"time (μs)\")"
   ]
  },
  {
   "cell_type": "code",
   "execution_count": null,
   "metadata": {},
   "outputs": [],
   "source": []
  }
 ],
 "metadata": {
  "kernelspec": {
   "display_name": "Python 3",
   "language": "python",
   "name": "python3"
  },
  "language_info": {
   "codemirror_mode": {
    "name": "ipython",
    "version": 3
   },
   "file_extension": ".py",
   "mimetype": "text/x-python",
   "name": "python",
   "nbconvert_exporter": "python",
   "pygments_lexer": "ipython3",
   "version": "3.11.4"
  }
 },
 "nbformat": 4,
 "nbformat_minor": 2
}
