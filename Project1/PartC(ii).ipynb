{
 "cells": [
  {
   "cell_type": "markdown",
   "metadata": {},
   "source": [
    "# Import libraries"
   ]
  },
  {
   "cell_type": "code",
   "execution_count": null,
   "metadata": {},
   "outputs": [],
   "source": [
    "# import libraries\n",
    "import pandas as pd\n",
    "import numpy as np\n",
    "import seaborn as sb\n",
    "import matplotlib.pyplot as plt\n",
    "\n",
    "import warnings\n",
    "warnings.simplefilter(action='ignore', category=(FutureWarning, UserWarning, DeprecationWarning))"
   ]
  },
  {
   "cell_type": "markdown",
   "metadata": {},
   "source": [
    "# Import Data\n",
    "Import from csv and make column for avg time and key comparison"
   ]
  },
  {
   "cell_type": "code",
   "execution_count": null,
   "metadata": {},
   "outputs": [],
   "source": [
    "merge_sort_df = pd.read_csv('./data/merge_sort_with_insertion_sort_diff_s.csv')\n",
    "merge_sort_df['CompareCountAvg'] = (merge_sort_df['CompareCount1'] + merge_sort_df['CompareCount2'] + merge_sort_df['CompareCount3'])/3\n",
    "merge_sort_df['timeAvg'] = (merge_sort_df['time1'] + merge_sort_df['time2'] + merge_sort_df['time3'])/3\n",
    "merge_sort_df.head()"
   ]
  },
  {
   "cell_type": "code",
   "execution_count": null,
   "metadata": {},
   "outputs": [],
   "source": [
    "f, ax = plt.subplots(1, 2, figsize=(15,5))\n",
    "\n",
    "# line plot for key comparison\n",
    "s1 = plt.subplot2grid((1,2), (0,0))\n",
    "\n",
    "lineKey = sb.lineplot(\n",
    "    data=merge_sort_df,\n",
    "    y='CompareCountAvg',\n",
    "    x='threshold'\n",
    ")\n",
    "plt.title('Key Comparison')\n",
    "\n",
    "# line plot for time\n",
    "s2 = plt.subplot2grid((1,2), (0,1))\n",
    "\n",
    "lineTime = sb.lineplot(\n",
    "    data=merge_sort_df,\n",
    "    y='timeAvg',\n",
    "    x='threshold'\n",
    ")\n",
    "plt.title('Time')\n",
    "\n",
    "plt.tight_layout()\n",
    "plt.show()"
   ]
  },
  {
   "cell_type": "code",
   "execution_count": null,
   "metadata": {},
   "outputs": [],
   "source": []
  }
 ],
 "metadata": {
  "kernelspec": {
   "display_name": "base",
   "language": "python",
   "name": "python3"
  },
  "language_info": {
   "codemirror_mode": {
    "name": "ipython",
    "version": 3
   },
   "file_extension": ".py",
   "mimetype": "text/x-python",
   "name": "python",
   "nbconvert_exporter": "python",
   "pygments_lexer": "ipython3",
   "version": "3.11.4"
  },
  "orig_nbformat": 4
 },
 "nbformat": 4,
 "nbformat_minor": 2
}
